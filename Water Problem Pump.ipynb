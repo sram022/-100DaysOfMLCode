{
 "cells": [
  {
   "cell_type": "markdown",
   "metadata": {},
   "source": [
    "As a part of #100DaysOfMLCode have started with this dataset due to lack of ML exposure. For the initial parts will be implementing various alogroithms inspired from other submissions. "
   ]
  },
  {
   "cell_type": "code",
   "execution_count": 108,
   "metadata": {},
   "outputs": [],
   "source": [
    "# Packages used\n",
    "import pandas as pd\n",
    "import numpy as np\n",
    "import seaborn as sns\n",
    "import matplotlib.pyplot as plt\n",
    "from sklearn.preprocessing import MinMaxScaler"
   ]
  },
  {
   "cell_type": "code",
   "execution_count": 109,
   "metadata": {},
   "outputs": [],
   "source": [
    "#Loading the Data as Pandas Data Frame\n",
    "train_ft_df = pd.read_csv('train_features.csv')\n",
    "train_lab_df = pd.read_csv('train_label.csv')\n",
    "train_df = train_ft_df.merge(train_lab_df,on ='id')"
   ]
  },
  {
   "cell_type": "code",
   "execution_count": 110,
   "metadata": {},
   "outputs": [
    {
     "name": "stdout",
     "output_type": "stream",
     "text": [
      "(59400, 41)\n"
     ]
    }
   ],
   "source": [
    "print(train_df.shape)"
   ]
  },
  {
   "cell_type": "code",
   "execution_count": 111,
   "metadata": {},
   "outputs": [],
   "source": [
    "#Data Cleaning\n",
    "#Cleaning Numerical Features\n",
    "#Replacing meaningless zero values with NaN\n",
    "#train_df['amount_tsh'].replace(0.0,np.nan,inplace = True)\n",
    "#train_df['population'].replace(0.0,np.nan,inplace = True)\n",
    "#train_df['gps_height'].replace(0.0,np.nan,inplace = True)\n",
    "#train_df.isnull().sum()"
   ]
  },
  {
   "cell_type": "code",
   "execution_count": 112,
   "metadata": {},
   "outputs": [],
   "source": [
    "## To reduce redundant Features droping sub-gorup classifiers.\n",
    "train_df = train_df.drop(['quantity','waterpoint_type'],axis = 1);\n"
   ]
  },
  {
   "cell_type": "code",
   "execution_count": 113,
   "metadata": {},
   "outputs": [],
   "source": [
    "#Converting Categorical Features as one hot encoded values\n",
    "train_df.dtypes\n",
    "#train_df = pd.get_dummies(train_df,dummy_na = True)\n",
    "#Scaling only amount_tsh,gps_height, population\n",
    "scale_Fetrs = ['amount_tsh','gps_height','population']\n",
    "scaler = MinMaxScaler(feature_range = (0,20))\n",
    "train_df[scale_Fetrs] = scaler.fit_transform(train_df[scale_Fetrs])\n"
   ]
  },
  {
   "cell_type": "code",
   "execution_count": 114,
   "metadata": {},
   "outputs": [],
   "source": [
    "# Should remove name of water point as it contains no valuable information\n",
    "#Non Info Features = wpt_name,recorded_by,num_private\n",
    "train_df  = train_df.drop(['wpt_name','num_private','recorded_by'],axis = 1)\n",
    "#print(train_df.groupby['wpt_name'].size())"
   ]
  },
  {
   "cell_type": "code",
   "execution_count": 115,
   "metadata": {},
   "outputs": [
    {
     "name": "stdout",
     "output_type": "stream",
     "text": [
      "payment                payment_type\n",
      "never pay              never pay       25348\n",
      "other                  other            1054\n",
      "pay annually           annually         3642\n",
      "pay monthly            monthly          8300\n",
      "pay per bucket         per bucket       8985\n",
      "pay when scheme fails  on failure       3914\n",
      "unknown                unknown          8157\n",
      "dtype: int64\n"
     ]
    }
   ],
   "source": [
    "print(train_df.groupby(['payment','payment_type']).size())\n",
    "#As This two features are redundant dropping one\n",
    "train_df = train_df.drop(['payment_type'],axis = 1)"
   ]
  },
  {
   "cell_type": "code",
   "execution_count": 116,
   "metadata": {},
   "outputs": [
    {
     "name": "stdout",
     "output_type": "stream",
     "text": [
      "water_quality       quality_group\n",
      "coloured            colored            490\n",
      "fluoride            fluoride           200\n",
      "fluoride abandoned  fluoride            17\n",
      "milky               milky              804\n",
      "salty               salty             4856\n",
      "salty abandoned     salty              339\n",
      "soft                good             50818\n",
      "unknown             unknown           1876\n",
      "dtype: int64\n"
     ]
    }
   ],
   "source": [
    "print(train_df.groupby(['water_quality','quality_group']).size())\n",
    "# will drop the sub_group water_quality\n",
    "train_df = train_df.drop(['quality_group'],axis = 1)"
   ]
  },
  {
   "cell_type": "code",
   "execution_count": null,
   "metadata": {},
   "outputs": [],
   "source": []
  },
  {
   "cell_type": "code",
   "execution_count": 117,
   "metadata": {},
   "outputs": [],
   "source": [
    "train_df.groupby(['source','source_type','source_class']).size()\n",
    "#keeping the source_type\n",
    "train_df = train_df.drop(['source','source_class'],axis = 1)"
   ]
  },
  {
   "cell_type": "code",
   "execution_count": 118,
   "metadata": {},
   "outputs": [
    {
     "data": {
      "text/plain": [
       "id                           0\n",
       "amount_tsh                   0\n",
       "date_recorded                0\n",
       "funder                    3635\n",
       "gps_height                   0\n",
       "installer                 3655\n",
       "longitude                    0\n",
       "latitude                     0\n",
       "basin                        0\n",
       "subvillage                 371\n",
       "region                       0\n",
       "region_code                  0\n",
       "district_code                0\n",
       "lga                          0\n",
       "ward                         0\n",
       "population                   0\n",
       "public_meeting            3334\n",
       "scheme_management         3877\n",
       "scheme_name              28166\n",
       "permit                    3056\n",
       "construction_year            0\n",
       "extraction_type              0\n",
       "extraction_type_group        0\n",
       "extraction_type_class        0\n",
       "management                   0\n",
       "management_group             0\n",
       "payment                      0\n",
       "water_quality                0\n",
       "quantity_group               0\n",
       "source_type                  0\n",
       "waterpoint_type_group        0\n",
       "status_group                 0\n",
       "dtype: int64"
      ]
     },
     "execution_count": 118,
     "metadata": {},
     "output_type": "execute_result"
    }
   ],
   "source": [
    "train_df.isnull().sum()\n"
   ]
  },
  {
   "cell_type": "code",
   "execution_count": 119,
   "metadata": {},
   "outputs": [],
   "source": [
    "train_df.groupby(['extraction_type','extraction_type_group','extraction_type_class']).size()\n",
    "#dropping extraction_type_class\n",
    "train_df = train_df.drop(['extraction_type_class','extraction_type'],axis = 1)"
   ]
  },
  {
   "cell_type": "code",
   "execution_count": null,
   "metadata": {},
   "outputs": [],
   "source": [
    "# Due to spcae constrain will be using factorize over one-hot encoder\n",
    "# complete cleaning Data and EDA.\n"
   ]
  },
  {
   "cell_type": "code",
   "execution_count": null,
   "metadata": {},
   "outputs": [],
   "source": []
  }
 ],
 "metadata": {
  "kernelspec": {
   "display_name": "Python 3",
   "language": "python",
   "name": "python3"
  },
  "language_info": {
   "codemirror_mode": {
    "name": "ipython",
    "version": 3
   },
   "file_extension": ".py",
   "mimetype": "text/x-python",
   "name": "python",
   "nbconvert_exporter": "python",
   "pygments_lexer": "ipython3",
   "version": "3.6.5"
  }
 },
 "nbformat": 4,
 "nbformat_minor": 2
}
