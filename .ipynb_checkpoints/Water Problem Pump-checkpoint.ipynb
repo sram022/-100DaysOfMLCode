{
 "cells": [
  {
   "cell_type": "markdown",
   "metadata": {},
   "source": [
    "As a part of #100DaysOfMLCode have started with this dataset due to lack of ML exposure. For the initial parts will be implementing various alogroithms inspired from other submissions. "
   ]
  },
  {
   "cell_type": "code",
   "execution_count": 44,
   "metadata": {},
   "outputs": [],
   "source": [
    "# Packages used\n",
    "import pandas as pd\n",
    "import numpy as np\n",
    "import seaborn as sns\n",
    "import matplotlib.pyplot as plt\n",
    "from sklearn.preprocessing import MinMaxScaler"
   ]
  },
  {
   "cell_type": "code",
   "execution_count": 34,
   "metadata": {},
   "outputs": [],
   "source": [
    "#Loading the Data as Pandas Data Frame\n",
    "train_ft_df = pd.read_csv('train_features.csv')\n",
    "train_lab_df = pd.read_csv('train_label.csv')\n",
    "train_df = train_ft_df.merge(train_lab_df,on ='id')"
   ]
  },
  {
   "cell_type": "code",
   "execution_count": 35,
   "metadata": {},
   "outputs": [
    {
     "name": "stdout",
     "output_type": "stream",
     "text": [
      "(59400, 41)\n"
     ]
    }
   ],
   "source": [
    "print(train_df.shape)"
   ]
  },
  {
   "cell_type": "code",
   "execution_count": 36,
   "metadata": {},
   "outputs": [
    {
     "data": {
      "text/plain": [
       "id                           0\n",
       "amount_tsh               41639\n",
       "date_recorded                0\n",
       "funder                    3635\n",
       "gps_height               20438\n",
       "installer                 3655\n",
       "longitude                    0\n",
       "latitude                     0\n",
       "wpt_name                     0\n",
       "num_private                  0\n",
       "basin                        0\n",
       "subvillage                 371\n",
       "region                       0\n",
       "region_code                  0\n",
       "district_code                0\n",
       "lga                          0\n",
       "ward                         0\n",
       "population               21381\n",
       "public_meeting            3334\n",
       "recorded_by                  0\n",
       "scheme_management         3877\n",
       "scheme_name              28166\n",
       "permit                    3056\n",
       "construction_year            0\n",
       "extraction_type              0\n",
       "extraction_type_group        0\n",
       "extraction_type_class        0\n",
       "management                   0\n",
       "management_group             0\n",
       "payment                      0\n",
       "payment_type                 0\n",
       "water_quality                0\n",
       "quality_group                0\n",
       "quantity                     0\n",
       "quantity_group               0\n",
       "source                       0\n",
       "source_type                  0\n",
       "source_class                 0\n",
       "waterpoint_type              0\n",
       "waterpoint_type_group        0\n",
       "status_group                 0\n",
       "dtype: int64"
      ]
     },
     "execution_count": 36,
     "metadata": {},
     "output_type": "execute_result"
    }
   ],
   "source": [
    "#Data Cleaning\n",
    "#Cleaning Numerical Features\n",
    "#Replacing meaningless zero values with NaN\n",
    "train_df['amount_tsh'].replace(0.0,np.nan,inplace = True)\n",
    "train_df['population'].replace(0.0,np.nan,inplace = True)\n",
    "train_df['gps_height'].replace(0.0,np.nan,inplace = True)\n",
    "train_df.isnull().sum()"
   ]
  },
  {
   "cell_type": "code",
   "execution_count": 38,
   "metadata": {},
   "outputs": [
    {
     "name": "stdout",
     "output_type": "stream",
     "text": [
      "      id  amount_tsh date_recorded        funder  gps_height     installer  \\\n",
      "0  69572      6000.0    2011-03-14         Roman      1390.0         Roman   \n",
      "1   8776         NaN    2013-03-06       Grumeti      1399.0       GRUMETI   \n",
      "2  34310        25.0    2013-02-25  Lottery Club       686.0  World vision   \n",
      "3  67743         NaN    2013-01-28        Unicef       263.0        UNICEF   \n",
      "4  19728         NaN    2011-07-13   Action In A         NaN       Artisan   \n",
      "\n",
      "   longitude   latitude              wpt_name  num_private       ...        \\\n",
      "0  34.938093  -9.856322                  none            0       ...         \n",
      "1  34.698766  -2.147466              Zahanati            0       ...         \n",
      "2  37.460664  -3.821329           Kwa Mahundi            0       ...         \n",
      "3  38.486161 -11.155298  Zahanati Ya Nanyumbu            0       ...         \n",
      "4  31.130847  -1.825359               Shuleni            0       ...         \n",
      "\n",
      "  water_quality quality_group      quantity  quantity_group  \\\n",
      "0          soft          good        enough          enough   \n",
      "1          soft          good  insufficient    insufficient   \n",
      "2          soft          good        enough          enough   \n",
      "3          soft          good           dry             dry   \n",
      "4          soft          good      seasonal        seasonal   \n",
      "\n",
      "                 source           source_type source_class  \\\n",
      "0                spring                spring  groundwater   \n",
      "1  rainwater harvesting  rainwater harvesting      surface   \n",
      "2                   dam                   dam      surface   \n",
      "3           machine dbh              borehole  groundwater   \n",
      "4  rainwater harvesting  rainwater harvesting      surface   \n",
      "\n",
      "               waterpoint_type waterpoint_type_group    status_group  \n",
      "0           communal standpipe    communal standpipe      functional  \n",
      "1           communal standpipe    communal standpipe      functional  \n",
      "2  communal standpipe multiple    communal standpipe      functional  \n",
      "3  communal standpipe multiple    communal standpipe  non functional  \n",
      "4           communal standpipe    communal standpipe      functional  \n",
      "\n",
      "[5 rows x 41 columns]\n",
      "(59400, 38)\n"
     ]
    }
   ],
   "source": [
    "print(train_df.head())\n",
    "## To reduce redundant Features droping sub-gorup classifiers.\n",
    "train_df = train_df.drop(['water_quality','quantity','waterpoint_type'],axis = 1)\n"
   ]
  },
  {
   "cell_type": "code",
   "execution_count": 45,
   "metadata": {},
   "outputs": [
    {
     "ename": "TypeError",
     "evalue": "factorize() got an unexpected keyword argument 'dummy_na'",
     "output_type": "error",
     "traceback": [
      "\u001b[1;31m---------------------------------------------------------------------------\u001b[0m",
      "\u001b[1;31mTypeError\u001b[0m                                 Traceback (most recent call last)",
      "\u001b[1;32m<ipython-input-45-ced3f86d7387>\u001b[0m in \u001b[0;36m<module>\u001b[1;34m()\u001b[0m\n\u001b[0;32m      2\u001b[0m \u001b[0mtrain_df\u001b[0m\u001b[1;33m.\u001b[0m\u001b[0mdtypes\u001b[0m\u001b[1;33m\u001b[0m\u001b[0m\n\u001b[0;32m      3\u001b[0m \u001b[1;31m#train_df = pd.get_dummies(train_df,dummy_na = True)\u001b[0m\u001b[1;33m\u001b[0m\u001b[1;33m\u001b[0m\u001b[0m\n\u001b[1;32m----> 4\u001b[1;33m \u001b[0mtrain_df\u001b[0m \u001b[1;33m=\u001b[0m \u001b[0mpd\u001b[0m\u001b[1;33m.\u001b[0m\u001b[0mfactorize\u001b[0m\u001b[1;33m(\u001b[0m\u001b[0mtrain_df\u001b[0m\u001b[1;33m,\u001b[0m\u001b[0mdummy_na\u001b[0m \u001b[1;33m=\u001b[0m \u001b[1;32mTrue\u001b[0m\u001b[1;33m)\u001b[0m\u001b[1;33m\u001b[0m\u001b[0m\n\u001b[0m\u001b[0;32m      5\u001b[0m \u001b[0mtrain_df\u001b[0m\u001b[1;33m.\u001b[0m\u001b[0misnull\u001b[0m\u001b[1;33m(\u001b[0m\u001b[1;33m)\u001b[0m\u001b[1;33m.\u001b[0m\u001b[0msum\u001b[0m\u001b[1;33m(\u001b[0m\u001b[1;33m)\u001b[0m\u001b[1;33m\u001b[0m\u001b[0m\n\u001b[0;32m      6\u001b[0m \u001b[0mMinMaxScaler\u001b[0m\u001b[1;33m(\u001b[0m\u001b[1;36m0\u001b[0m\u001b[1;33m,\u001b[0m\u001b[1;36m20\u001b[0m\u001b[1;33m)\u001b[0m\u001b[1;33m\u001b[0m\u001b[0m\n",
      "\u001b[1;32m~\\Anaconda3\\lib\\site-packages\\pandas\\util\\_decorators.py\u001b[0m in \u001b[0;36mwrapper\u001b[1;34m(*args, **kwargs)\u001b[0m\n\u001b[0;32m    175\u001b[0m                 \u001b[1;32melse\u001b[0m\u001b[1;33m:\u001b[0m\u001b[1;33m\u001b[0m\u001b[0m\n\u001b[0;32m    176\u001b[0m                     \u001b[0mkwargs\u001b[0m\u001b[1;33m[\u001b[0m\u001b[0mnew_arg_name\u001b[0m\u001b[1;33m]\u001b[0m \u001b[1;33m=\u001b[0m \u001b[0mnew_arg_value\u001b[0m\u001b[1;33m\u001b[0m\u001b[0m\n\u001b[1;32m--> 177\u001b[1;33m             \u001b[1;32mreturn\u001b[0m \u001b[0mfunc\u001b[0m\u001b[1;33m(\u001b[0m\u001b[1;33m*\u001b[0m\u001b[0margs\u001b[0m\u001b[1;33m,\u001b[0m \u001b[1;33m**\u001b[0m\u001b[0mkwargs\u001b[0m\u001b[1;33m)\u001b[0m\u001b[1;33m\u001b[0m\u001b[0m\n\u001b[0m\u001b[0;32m    178\u001b[0m         \u001b[1;32mreturn\u001b[0m \u001b[0mwrapper\u001b[0m\u001b[1;33m\u001b[0m\u001b[0m\n\u001b[0;32m    179\u001b[0m     \u001b[1;32mreturn\u001b[0m \u001b[0m_deprecate_kwarg\u001b[0m\u001b[1;33m\u001b[0m\u001b[0m\n",
      "\u001b[1;31mTypeError\u001b[0m: factorize() got an unexpected keyword argument 'dummy_na'"
     ]
    }
   ],
   "source": [
    "#Converting Categorical Features as one hot encoded values\n",
    "train_df.dtypes\n",
    "#train_df = pd.get_dummies(train_df,dummy_na = True)\n",
    "train_df = pd.factorize(train_df,dummy_na = True)\n",
    "train_df.isnull().sum()\n",
    "MinMaxScaler(0,20)"
   ]
  },
  {
   "cell_type": "code",
   "execution_count": null,
   "metadata": {},
   "outputs": [],
   "source": [
    "# Due to spcae constrain will be using factorize over one-hot encoder\n",
    "# complete cleaning Data and EDA."
   ]
  }
 ],
 "metadata": {
  "kernelspec": {
   "display_name": "Python 3",
   "language": "python",
   "name": "python3"
  },
  "language_info": {
   "codemirror_mode": {
    "name": "ipython",
    "version": 3
   },
   "file_extension": ".py",
   "mimetype": "text/x-python",
   "name": "python",
   "nbconvert_exporter": "python",
   "pygments_lexer": "ipython3",
   "version": "3.6.5"
  }
 },
 "nbformat": 4,
 "nbformat_minor": 2
}
